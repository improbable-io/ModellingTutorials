{
 "cells": [
  {
   "cell_type": "markdown",
   "metadata": {
    "deletable": true,
    "editable": true
   },
   "source": [
    "# Rolling balls tutorial\n",
    "\n",
    "## The modelling problem\n",
    "\n",
    "Suppose there's a ball rolling along a pool table. It's rolling directly towards a pocket but we're not sure it's got enough momentum to make it all the way.\n",
    "\n",
    "Suppose we've rigged up a camera measuring the position of a ball as it rolls. To make it easy, we've already got some image processing code to calculate the distance from the centre of the ball to the edge of the pocket. Our aim in this tutorial is to use the camera measurements to work out whether the ball will make it to the pocket.\n",
    "\n",
    "The camera's frame rate is 50 frames/sec and we receive the following distance measurements (in meters) from consecutive frames:"
   ]
  },
  {
   "cell_type": "code",
   "execution_count": 5,
   "metadata": {
    "collapsed": false,
    "deletable": true,
    "editable": true
   },
   "outputs": [],
   "source": [
    "data = [\n",
    "    0.6180,\n",
    "    0.6111,\n",
    "    0.6042,\n",
    "    0.5973,\n",
    "    0.5905,\n",
    "    0.5837,\n",
    "    0.5770,\n",
    "    0.5703]"
   ]
  },
  {
   "cell_type": "markdown",
   "metadata": {
    "deletable": true,
    "editable": true
   },
   "source": [
    "The standard error of the measurements is ±0.5mm. \n",
    "\n",
    "## Designing a model\n",
    "\n",
    "Let's begin by thinking about the mechanisms that may effect the motion of the ball. Here are a few:\n",
    "\n",
    "* the friction between the ball and the table as it rolls\n",
    "* air resistance on the ball\n",
    "* if the ball has backspin: the friction of the ball as it skids along the table\n",
    "\n",
    "The study by <a href=\"WittersDuymelinck86.pdf\">Witters and Duymelinck (1986)</a> shows that we can neglect air resistance at the speeds we're concered about. It also shows that the ball is unlikely to have any backspin at this speed, so we make the modelling assumption that the ball is rolling along the table with no backspin. So, we are left with just the friction between the ball and the table, which the paper shows exerts a decelleration force that is proportional to the force of the ball on the table due to gravity. If we let $\\alpha$ be the constant of proportionality then the frictional force $F = \\alpha mg$.\n",
    "\n",
    "### First attempt: Forward integration model\n",
    "\n",
    "Using <a href=\"https://en.wikipedia.org/wiki/Newton%27s_laws_of_motion\">Newton's second law of motion</a>, namely $\\vec{F}=m\\vec{a}$, we can fomulate an equation for the acceleration of the ball given its mass and the frictional force: \n",
    "$$\n",
    "a = \\frac{d^2s}{dt^2} = \\alpha g\n",
    "$$\n",
    "Using this, we can easily write a program to simulate the position and velocity of the ball, given the frictional coefficient $\\alpha$ and an initial velocity:"
   ]
  },
  {
   "cell_type": "code",
   "execution_count": 6,
   "metadata": {
    "collapsed": false,
    "deletable": true,
    "editable": true
   },
   "outputs": [],
   "source": [
    "# s is initial position\n",
    "# v is initial velocity\n",
    "# alpha is the coefficient of friction\n",
    "# returns the final resting position of the ball\n",
    "def restingPosition(s, v, alpha):\n",
    "    g = 9.8 # gravitational acceleration\n",
    "    a = alpha*g # acceleration\n",
    "    dt = 0.001 # time step\n",
    "\n",
    "    while(v < 0):\n",
    "      s = s + v*dt;\n",
    "      v = v + a*dt;\n",
    "    return s;\n"
   ]
  },
  {
   "cell_type": "markdown",
   "metadata": {
    "deletable": true,
    "editable": true
   },
   "source": [
    "This is OK, but to calculate the final resting place, we need to know the initial velocity, initial position and frictional coefficient. However, the data doesn't directly tell us any of these things so we need to do some extra maths to work out these numbers from the data.\n",
    "\n",
    "As a first approximation, we could take the inital position to be the first measured frame, the initial velocity to be the average velocity between the first two frames and the acceleration to be the change of velocity between the first two  and last two frames:"
   ]
  },
  {
   "cell_type": "code",
   "execution_count": 7,
   "metadata": {
    "collapsed": false,
    "deletable": true,
    "editable": true
   },
   "outputs": [
    {
     "name": "stdout",
     "output_type": "stream",
     "text": [
      "Initial position =  0.618\n",
      "Initial velocity =  -0.345\n",
      "alpha =  0.00850340136055\n",
      "Final resting distance =  -0.0963224999996\n"
     ]
    }
   ],
   "source": [
    "frame_period = 1.0/50.0\n",
    "g = 9.8\n",
    "s = data[0]\n",
    "v0 = (data[1] - data[0])/frame_period\n",
    "v1 = (data[7] - data[6])/frame_period\n",
    "alpha = (v1-v0)/(6*frame_period*g)\n",
    "\n",
    "print \"Initial position = \", s\n",
    "print \"Initial velocity = \", v0\n",
    "print \"alpha = \", alpha\n",
    "print \"Final resting distance = \", restingPosition(s,v0,alpha)"
   ]
  },
  {
   "cell_type": "markdown",
   "metadata": {
    "deletable": true,
    "editable": true
   },
   "source": [
    "The final resting distance should be negative, meaning that the ball makes it past the edge of the pocket and is potted.\n",
    "\n",
    "This is OK, but it isn't making use of the third, fourth and fifth data points and we don't know how much uncertainty there is in our final result. To do better we need to abstract a little bit further."
   ]
  },
  {
   "cell_type": "markdown",
   "metadata": {
    "deletable": true,
    "editable": true
   },
   "source": [
    "### Second attempt: Maximum likelihood\n",
    "\n",
    "Going back to the equation of motion, notice that we can integrate this to give the velocity of the ball\n",
    "$$\n",
    "v = \\frac{ds}{dt} = u + \\alpha gt\n",
    "$$\n",
    "and integrating this again gives the position at any given time\n",
    "$$\n",
    "s = s_0 + ut + \\frac{1}{2}\\alpha gt^2\n",
    "$$\n",
    "\n",
    "Using this equation as our equation of motion allows us to do much more.\n",
    "\n",
    "If we let $Y=[d_0...d_7]$ be the data from the camera, then we can link the data to the model as a set of eight simultaneous equations of the form\n",
    "$$\n",
    "d_n + \\epsilon_n = s_0 + u\\left(\\frac{n}{50}\\right) + \\frac{1}{2}\\alpha g \\left(\\frac{n}{50}\\right)^2\n",
    "$$\n",
    "for $n = 0...7$, where $\\epsilon_n$ is the measurement error for the $n^{th}$ frame.\n",
    "\n",
    "This can be expressed in matrix notation by letting\n",
    "$$\n",
    "B = \\left[\\begin{array}{c}\n",
    "s_0 \\\\ u \\\\ \\alpha\n",
    "\\end{array}\\right]\n",
    "$$ \n",
    "$$\n",
    "X = \\left[ \n",
    "\\begin{array}{ccc}\n",
    "1 & \\frac{1}{50} & \\frac{1}{2}g\\left(\\frac{1}{50}\\right)^2\\\\\n",
    "1 & \\frac{2}{50} & \\frac{1}{2}g\\left(\\frac{2}{50}\\right)^2\\\\\n",
    "& \\vdots & \\\\\n",
    "1 & \\frac{7}{50} & \\frac{1}{2}g\\left(\\frac{7}{50}\\right)^2\\\\\n",
    "\\end{array}\n",
    "\\right]\n",
    "$$\n",
    "and\n",
    "$$\n",
    "E = \\left[\\begin{array}{c}\n",
    "\\epsilon_0 \\\\ \\vdots \\\\ \\epsilon_7\n",
    "\\end{array}\\right]\n",
    "$$\n",
    "giving\n",
    "$$\n",
    "Y + E = XB\n",
    "$$\n",
    "The only unknowns in this equation are $E$, the measurement error terms, and $X$, the parameters we need for our model.\n",
    "\n",
    "A commom thing to do at this point is to run a <a href=\"https://en.wikipedia.org/wiki/Linear_regression\">linear regression</a> on the above equation. This finds the value of $X$ that minimises $E^TE$ (i.e. the $X$ that maximises the likelihood of getting the measurements we actually observed).\n",
    "\n",
    "We can do this in Python using the `numpy` function `linalg.lstsq`, as follows:"
   ]
  },
  {
   "cell_type": "code",
   "execution_count": 57,
   "metadata": {
    "collapsed": false,
    "deletable": true,
    "editable": true
   },
   "outputs": [
    {
     "name": "stdout",
     "output_type": "stream",
     "text": [
      "B =  [[ 1.       0.       0.     ]\n",
      " [ 1.       0.02     0.00196]\n",
      " [ 1.       0.04     0.00784]\n",
      " [ 1.       0.06     0.01764]\n",
      " [ 1.       0.08     0.03136]\n",
      " [ 1.       0.1      0.049  ]\n",
      " [ 1.       0.12     0.07056]\n",
      " [ 1.       0.14     0.09604]]\n",
      "D =  [ 0.618   0.6111  0.6042  0.5973  0.5905  0.5837  0.577   0.5703]\n",
      "X =  [ 0.61802083 -0.34818452  0.01062925]\n"
     ]
    }
   ],
   "source": [
    "import numpy as np\n",
    "\n",
    "t = np.array([0, 1.0/50, 2.0/50, 3.0/50, 4.0/50, 5.0/50, 6.0/50, 7.0/50])\n",
    "\n",
    "X = np.vstack([np.ones(len(t)), t, 0.5*g*t*t]).T\n",
    "Y = np.array(data).T\n",
    "B = np.linalg.lstsq(X, Y)[0]\n",
    "\n",
    "print \"B = \", B\n",
    "print \"D = \", D\n",
    "print \"X = \", X"
   ]
  },
  {
   "cell_type": "markdown",
   "metadata": {
    "deletable": true,
    "editable": true
   },
   "source": [
    "The regressed value of $X$ gives us the initial position, velocity and coefficient of friction. With this we can find the resting position of the ball. First, setting the equation for velocity to zero, we find the time at which the ball comes to rest is given by\n",
    "\n",
    "$$\n",
    "t_r = \\frac{-u}{\\alpha g}\n",
    "$$\n",
    "\n",
    "substituting this into the equation for position and simplifying gives\n",
    "\n",
    "$$\n",
    "s_r = s_0 - \\frac{u^2}{2\\alpha g}\n",
    "$$\n",
    "\n",
    "We can now calculate whether the ball is potted in the maximum likelihood scenario: "
   ]
  },
  {
   "cell_type": "code",
   "execution_count": 74,
   "metadata": {
    "collapsed": false,
    "deletable": true,
    "editable": true
   },
   "outputs": [
    {
     "name": "stdout",
     "output_type": "stream",
     "text": [
      "0.0361049290488\n"
     ]
    }
   ],
   "source": [
    "s0 = 0.61802083\n",
    "u = -0.34818452\n",
    "alpha = 0.01062925\n",
    "g= 9.8\n",
    "\n",
    "sr = s0 - u*u/(2*alpha*g)\n",
    "print sr"
   ]
  },
  {
   "cell_type": "markdown",
   "metadata": {
    "deletable": true,
    "editable": true
   },
   "source": [
    "With this new analysis, the ball stops 36mm short of the pocket!\n",
    "\n",
    "This is a much better model than our first attempt, but even this one is a bit simplistic. The problem is that "
   ]
  }
 ],
 "metadata": {
  "kernelspec": {
   "display_name": "Python 2",
   "language": "python",
   "name": "python2"
  },
  "language_info": {
   "codemirror_mode": {
    "name": "ipython",
    "version": 2
   },
   "file_extension": ".py",
   "mimetype": "text/x-python",
   "name": "python",
   "nbconvert_exporter": "python",
   "pygments_lexer": "ipython2",
   "version": "2.7.12"
  }
 },
 "nbformat": 4,
 "nbformat_minor": 2
}
